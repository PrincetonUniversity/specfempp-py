{
 "cells": [
  {
   "cell_type": "markdown",
   "metadata": {
    "slideshow": {
     "slide_type": "slide"
    }
   },
   "source": [
    "# SPECFEM++ with Ivy's custom 1D bathymetry profiles\n",
    "\n"
   ]
  },
  {
   "cell_type": "markdown",
   "metadata": {
    "slideshow": {
     "slide_type": "skip"
    }
   },
   "source": [
    "\n",
    "In the following notebook, we will show how to use the SPECFEM++ software with\n",
    "custom 1D bathymetry profiles. We will use the example of the 1D bathymetry\n",
    "profile at Mermaid `P0009` for the M6.5 earthquake in Indonesia at depth 529km.\n",
    "\n",
    "The example first gets the event provided an approximate location, time_frame\n",
    "and magnitude. It'll then get the Mermaid location based on coordinate"
   ]
  },
  {
   "cell_type": "code",
   "execution_count": null,
   "metadata": {
    "slideshow": {
     "slide_type": "skip"
    }
   },
   "outputs": [],
   "source": [
    "%load_ext autoreload\n",
    "%autoreload 2\n",
    "\n",
    "import obspy\n",
    "from specfempp.examples_utilities.get_gcmt import get_gcmt\n",
    "\n",
    "from specfempp import Config, execute "
   ]
  },
  {
   "cell_type": "markdown",
   "metadata": {
    "slideshow": {
     "slide_type": "slide"
    }
   },
   "source": [
    "\n",
    "## Downloading event information\n",
    "\n",
    "Before we start looking at the bathymetry we need to find the event\n"
   ]
  },
  {
   "cell_type": "code",
   "execution_count": null,
   "metadata": {
    "slideshow": {
     "slide_type": "fragment"
    }
   },
   "outputs": [],
   "source": [
    "# Event location\n",
    "approx_event_lat =  -7.310\n",
    "approx_event_lon =  +119.750\n",
    "approx_event_mag = 6.5\n",
    "\n",
    "# Event time span\n",
    "t1 = obspy.UTCDateTime(\"2018-08-17T00:00:00\")\n",
    "t2 = obspy.UTCDateTime(\"2018-08-18T00:00:00\")\n"
   ]
  },
  {
   "cell_type": "code",
   "execution_count": null,
   "metadata": {
    "slideshow": {
     "slide_type": "fragment"
    }
   },
   "outputs": [],
   "source": [
    "\n",
    "# Using SPUD to download the QuakeML catalog file and return event\n",
    "gcmt = get_gcmt(t1, t2, \n",
    "                minlat=approx_event_lat-1, maxlat=approx_event_lat+1, \n",
    "                minlon=approx_event_lon-1, maxlon=approx_event_lon+ 1,\n",
    "                minmag=approx_event_mag-0.1, maxmag=approx_event_mag+0.1)[0]\n",
    "\n",
    "# Get some information about the event\n",
    "event_lat = gcmt.origins[0].latitude\n",
    "event_lon = gcmt.origins[0].longitude\n",
    "event_depth = gcmt.origins[0].depth\n",
    "event_time = gcmt.origins[0].time\n",
    "event_mag = gcmt.magnitudes[0].mag\n"
   ]
  },
  {
   "cell_type": "markdown",
   "metadata": {
    "slideshow": {
     "slide_type": "slide"
    }
   },
   "source": [
    "### Event information:"
   ]
  },
  {
   "cell_type": "code",
   "execution_count": null,
   "metadata": {
    "slideshow": {
     "slide_type": "fragment"
    }
   },
   "outputs": [],
   "source": [
    "print( f\"Event Lat:   {event_lat}\")\n",
    "print( f\"Event Lon:   {event_lon}\")\n",
    "print( f\"Event Depth: {event_depth}\")\n",
    "print( f\"Event Time:  {event_time}\")\n",
    "print( f\"Event Mag:   {event_mag}\")"
   ]
  },
  {
   "cell_type": "markdown",
   "metadata": {
    "slideshow": {
     "slide_type": "slide"
    }
   },
   "source": [
    "## Downloading station information\n"
   ]
  },
  {
   "cell_type": "markdown",
   "metadata": {
    "slideshow": {
     "slide_type": "skip"
    }
   },
   "source": [
    "\n",
    "Now that we have gathered the event information, we can collect the metadata\n",
    "for the MERMAID hydrophone (Network code : `MH`) and the station code `P0009`.\n",
    "\n",
    "First, let's look at the the info we can get from `obspy`."
   ]
  },
  {
   "cell_type": "code",
   "execution_count": null,
   "metadata": {
    "slideshow": {
     "slide_type": "fragment"
    }
   },
   "outputs": [],
   "source": [
    "# Mermaid ID always 5 (see https://www.fdsn.org/networks/detail/MH/)\n",
    "mermaid_network_code = \"MH\"\n",
    "mermaid_station_code = \"P0009\"\n",
    "\n",
    "\n",
    "from obspy.clients.fdsn import Client\n",
    "client = Client(\"IRIS\")\n",
    "inv = client.get_stations(network=mermaid_network_code, starttime=t1, endtime=t2, level=\"response\")\n",
    "inv.select(station=mermaid_station_code)"
   ]
  },
  {
   "cell_type": "markdown",
   "metadata": {
    "slideshow": {
     "slide_type": "skip"
    }
   },
   "source": [
    "This is sadly not enough information to get the exact location of the station.\n",
    "Since the inventory/`station.xml` file does not contain contiuous records of the\n",
    "location of the station. We will have to use the Princeton MERMAID database to\n",
    "get the exact location of the station.\n",
    "\n"
   ]
  },
  {
   "cell_type": "markdown",
   "metadata": {
    "slideshow": {
     "slide_type": "slide"
    }
   },
   "source": [
    "### Getting the exact location of the station"
   ]
  },
  {
   "cell_type": "code",
   "execution_count": null,
   "metadata": {
    "slideshow": {
     "slide_type": "fragment"
    }
   },
   "outputs": [],
   "source": [
    "import specfempp.examples_utilities.mermaid as mermaid\n",
    "\n",
    "# Download the mermaid metadata from Geoweb SOM\n",
    "mermaid_metadata = mermaid.download_position(mermaid_station_code)\n",
    "\n",
    "# Get the location of the mermaid at the time of the event\n",
    "station_lon_mermaid, station_lat_mermaid, station_depth_mermaid = mermaid.get_location(mermaid_metadata, event_time)\n",
    "print(f\"Station Location: {station_lat_mermaid}, {station_lon_mermaid}, {station_depth_mermaid}\")"
   ]
  },
  {
   "cell_type": "markdown",
   "metadata": {
    "slideshow": {
     "slide_type": "skip"
    }
   },
   "source": [
    "This is the interpolated location of `P0009` from the Princeton MERMAID database.\n",
    "However, Joel Simon has computed a more accurate location for the station with\n",
    "additional locations of the station. So, for the purpose of this example, we will\n",
    "use the location provided by Joel Simon that has been given to me by Ivy.\n"
   ]
  },
  {
   "cell_type": "markdown",
   "metadata": {
    "slideshow": {
     "slide_type": "slide"
    }
   },
   "source": [
    "### Comparing to the locations Ivy used in the paper (from Joel Simon)"
   ]
  },
  {
   "cell_type": "code",
   "execution_count": null,
   "metadata": {
    "slideshow": {
     "slide_type": "fragment"
    }
   },
   "outputs": [],
   "source": [
    "\n",
    "# Information provided by Ivy to reproduce the results of the paper.\n",
    "station_lat= -12.0025 \n",
    "station_lon= -168.3766\n",
    "station_depth=1518\n",
    "station_bathymetry=4128\n",
    "\n",
    "# Compare the location of the station with the one provided by Ivy\n",
    "print(f\"               {'Ivy':>10s} <-> {'Interp.':>10s}\")\n",
    "print(f\"Station Lat:   {station_lat:>10.4f} <-> {station_lat_mermaid:>10.4f}\")\n",
    "print(f\"Station Lon:   {station_lon:>10.4f} <-> {station_lon_mermaid:>10.4f}\")\n",
    "print(f\"Station Depth: {station_depth:>10.4f} <-> {station_depth_mermaid:>10.4f}\")\n",
    "\n"
   ]
  },
  {
   "cell_type": "markdown",
   "metadata": {
    "slideshow": {
     "slide_type": "skip"
    }
   },
   "source": [
    "Now that we have both station and event information, we can plot the geometry\n",
    "using `pygmt`."
   ]
  },
  {
   "cell_type": "code",
   "execution_count": null,
   "metadata": {
    "slideshow": {
     "slide_type": "skip"
    }
   },
   "outputs": [],
   "source": [
    "import specfempp.examples_utilities.mapping as mapping\n"
   ]
  },
  {
   "cell_type": "markdown",
   "metadata": {
    "slideshow": {
     "slide_type": "slide"
    }
   },
   "source": [
    "### Event and station geometry using PyGMT"
   ]
  },
  {
   "cell_type": "code",
   "execution_count": null,
   "metadata": {
    "slideshow": {
     "slide_type": "fragment"
    }
   },
   "outputs": [],
   "source": [
    "fig = mapping.plot_station_event_geometry(event_lat, event_lon, station_lat, station_lon)\n",
    "fig.show()"
   ]
  },
  {
   "cell_type": "markdown",
   "metadata": {
    "slideshow": {
     "slide_type": "skip"
    }
   },
   "source": [
    "Now, to the bathymetry around the station. We will first get map extents around\n",
    "the MERMAID and the event, the complete Mermaid track, and the local extent\n",
    "around the MERMAID.\n",
    "\n",
    "The local extent (`line_extent`) is computed using the +/- 10 km around the \n",
    "station along the backazimuth of the event.\n",
    "\n",
    "The `mermaid.get_extent` function is getting the min/max latitude and longitude\n",
    "of the Mermaid track.\n",
    "\n",
    "The `mapping.get_extent` function is getting the min/max latitude and longitude\n",
    "of the event and station location.\n",
    "\n",
    "Finally, `mapping.fix_extent` is taking the found extent and expanind it by a\n",
    "buffer of 5% and fixing the short end to create a 2 to 1 aspect ratio.\n"
   ]
  },
  {
   "cell_type": "code",
   "execution_count": null,
   "metadata": {
    "slideshow": {
     "slide_type": "skip"
    }
   },
   "outputs": [],
   "source": [
    "\n",
    "import specfempp.examples_utilities.mermaid as mermaid\n",
    "import matplotlib.dates as mdates\n",
    "\n",
    "# Get the extent of the mermaid track\n",
    "mermaid_extent = mermaid.get_extent(mermaid_metadata)\n",
    "\n",
    "# Fix the extent for ok map aspect ratio\n",
    "mermaid_extent = mapping.fix_extent(mermaid_extent)\n",
    "\n",
    "# Get the extent of the event and the station\n",
    "event_station_extent = mapping.get_extent(event_lat, event_lon, station_lat, station_lon)\n",
    "\n",
    "# Fix the extent for ok map aspect ratio\n",
    "event_station_extent = mapping.fix_extent(event_station_extent)\n"
   ]
  },
  {
   "cell_type": "markdown",
   "metadata": {
    "slideshow": {
     "slide_type": "skip"
    }
   },
   "source": [
    "The next step is defining the line around the Mermaid along which we want to \n",
    "extract the bathymetry. As defined in Ivy's paper the line is selected along the\n",
    "backazimuth of the event and 10 km on either side of the station."
   ]
  },
  {
   "cell_type": "markdown",
   "metadata": {
    "slideshow": {
     "slide_type": "slide"
    }
   },
   "source": [
    "### Getting the line along which to interpolate the bathymetry"
   ]
  },
  {
   "cell_type": "code",
   "execution_count": null,
   "metadata": {
    "slideshow": {
     "slide_type": "fragment"
    }
   },
   "outputs": [],
   "source": [
    "dist_in_m, az, baz = obspy.geodetics.gps2dist_azimuth(event_lat, event_lon, station_lat, station_lon)\n",
    "\n",
    "# Define with \n",
    "width = 20000\n",
    "npts = 501\n",
    "\n",
    "# Get the line around the station\n",
    "line_offset, line_latitudes, line_longitudes = \\\n",
    "    mapping.get_line(station_lat, station_lon,width, npts, baz)\n"
   ]
  },
  {
   "cell_type": "code",
   "execution_count": null,
   "metadata": {
    "slideshow": {
     "slide_type": "skip"
    }
   },
   "outputs": [],
   "source": [
    "# Get the line_extent\n",
    "line_extent = mapping.get_extent(line_latitudes[0], line_longitudes[0],\n",
    "                                  line_latitudes[-1], line_longitudes[-1])\n",
    "\n",
    "# Fix the extent for ok map aspect ratio\n",
    "line_extent = mapping.fix_extent(line_extent, fraction=0.2)"
   ]
  },
  {
   "cell_type": "code",
   "execution_count": null,
   "metadata": {
    "slideshow": {
     "slide_type": "fragment"
    }
   },
   "outputs": [],
   "source": [
    "print(f\"Line Extent: {line_extent}\")\n",
    "print(f\"Line Longitudes: {line_longitudes[0]}, {line_longitudes[-1]}\")\n",
    "print(f\"Line Latitudes: {line_latitudes[0]}, {line_latitudes[-1]}\")"
   ]
  },
  {
   "cell_type": "markdown",
   "metadata": {
    "slideshow": {
     "slide_type": "skip"
    }
   },
   "source": [
    "Now, before we map everything, let's extract the bathymetry around the mermaid\n",
    "track for reference, and locally around the station to interpolate the\n",
    "bathymetry along the line."
   ]
  },
  {
   "cell_type": "markdown",
   "metadata": {
    "slideshow": {
     "slide_type": "slide"
    }
   },
   "source": [
    "### Extracting bathymetry around the station"
   ]
  },
  {
   "cell_type": "code",
   "execution_count": null,
   "metadata": {},
   "outputs": [],
   "source": [
    "import specfempp.examples_utilities.gebco as gebco\n",
    "\n",
    "# Download the bathymetry from GEBCO\n",
    "gebco.download()\n",
    "\n",
    "# Extract bathymetry for the mermaid extent\n",
    "mermaid_bathymetry = gebco.get_bathymetry(mermaid_extent, split=False)\n",
    "\n",
    "# Local bathymetry around the station\n",
    "local_bathymetry = gebco.get_bathymetry(line_extent, split=False)"
   ]
  },
  {
   "cell_type": "markdown",
   "metadata": {
    "slideshow": {
     "slide_type": "skip"
    }
   },
   "source": [
    "Now that we the bathymetry we can interpolate the line bathymetry using the\n",
    "`scipy.interpolate.griddata` function.\n"
   ]
  },
  {
   "cell_type": "markdown",
   "metadata": {
    "slideshow": {
     "slide_type": "slide"
    }
   },
   "source": [
    "### Interpolating the bathymetry along the line"
   ]
  },
  {
   "cell_type": "code",
   "execution_count": null,
   "metadata": {
    "slideshow": {
     "slide_type": "fragment"
    }
   },
   "outputs": [],
   "source": [
    "line_offset, line_bathymetry, line_latitudes, line_longitudes = \\\n",
    "    gebco.bathymetryprofile(\n",
    "        width, npts, [station_lon, station_lat], baz, \n",
    "        input_lons=local_bathymetry['longitudes'], \n",
    "        input_lats=local_bathymetry['latitudes'], \n",
    "        input_bathy=local_bathymetry['elevation'])\n"
   ]
  },
  {
   "cell_type": "markdown",
   "metadata": {
    "slideshow": {
     "slide_type": "skip"
    }
   },
   "source": [
    "Now that the bathymetry is interpolated, we can plot a summary map of the\n",
    "bathymetry around the station and the event along with the Mermaid track."
   ]
  },
  {
   "cell_type": "markdown",
   "metadata": {
    "slideshow": {
     "slide_type": "slide"
    }
   },
   "source": [
    "### Plotting the bathymetry around the station and event"
   ]
  },
  {
   "cell_type": "code",
   "execution_count": null,
   "metadata": {
    "slideshow": {
     "slide_type": "fragment"
    }
   },
   "outputs": [],
   "source": [
    "gebco.plot_summary(station_lat, station_lon, event_lat, event_lon,\n",
    "                   mermaid_metadata,\n",
    "                   mermaid_bathymetry, local_bathymetry, \n",
    "                   line_offset, line_bathymetry, \n",
    "                   line_latitudes, line_longitudes)\n"
   ]
  },
  {
   "cell_type": "markdown",
   "metadata": {
    "slideshow": {
     "slide_type": "skip"
    }
   },
   "source": [
    "The final step before writing the necessary files and running the simulation is \n",
    "to compute the incidence angle of the plane wave impinging on the domain.\n"
   ]
  },
  {
   "cell_type": "markdown",
   "metadata": {
    "slideshow": {
     "slide_type": "slide"
    }
   },
   "source": [
    "### Computing the incidence angle"
   ]
  },
  {
   "cell_type": "code",
   "execution_count": null,
   "metadata": {
    "slideshow": {
     "slide_type": "fragment"
    }
   },
   "outputs": [],
   "source": [
    "import obspy.taup\n",
    "\n",
    "# Use ak135 model\n",
    "model = obspy.taup.TauPyModel(model=\"ak135\")\n",
    "\n",
    "# Get the travel times\n",
    "arrivals = model.get_ray_paths(source_depth_in_km=event_depth/1000,\n",
    "                               distance_in_degree=dist_in_m/1000/111.195,\n",
    "                               phase_list=[\"P\"])\n",
    "\n",
    "# Get the incidence angle\n",
    "incidence_angle = arrivals[0].incident_angle\n",
    "\n",
    "print(f\"Incidence Angle: {incidence_angle:.2f} degrees\")"
   ]
  },
  {
   "cell_type": "markdown",
   "metadata": {
    "slideshow": {
     "slide_type": "slide"
    }
   },
   "source": [
    "## Running the simulation with SPECFEM++\n"
   ]
  },
  {
   "cell_type": "markdown",
   "metadata": {
    "slideshow": {
     "slide_type": "skip"
    }
   },
   "source": [
    "\n",
    "Now that we have the bathymetry and the incidence angle, we can run the\n",
    "simulation with SPECFEM++ since we are able to generate the mesh file, the\n",
    "topography file, and create the sources to be generated.\n",
    "\n",
    "The next step is to create the mesh parameter file by first reading a base\n",
    "`Par_file` and updating the necessary parameters to adjust for size and\n",
    "resolution of the mesh."
   ]
  },
  {
   "cell_type": "markdown",
   "metadata": {
    "slideshow": {
     "slide_type": "slide"
    }
   },
   "source": [
    "### Update Parameter file and Topography file"
   ]
  },
  {
   "cell_type": "code",
   "execution_count": null,
   "metadata": {
    "slideshow": {
     "slide_type": "fragment"
    }
   },
   "outputs": [],
   "source": [
    "from specfempp.utilities import get_par_file, write_par_file\n",
    "\n",
    "# Get the base par file\n",
    "par_dict = get_par_file(\"Base_Par_file\", verbose=False, savecomments=True)\n",
    "\n",
    "par_dict[\"receiversets\"][\"nrec\"], \\\n",
    "par_dict[\"receiversets\"][\"zdeb\"], \\\n",
    "par_dict[\"receiversets\"][\"zfin\"]"
   ]
  },
  {
   "cell_type": "code",
   "execution_count": null,
   "metadata": {
    "slideshow": {
     "slide_type": "fragment"
    }
   },
   "outputs": [],
   "source": [
    "# Update the par file # make sure that bathymetry values are positive here!\n",
    "gebco.update_par_file_extent(par_dict, line_offset[-1], 9600, 9600+line_bathymetry, verbose=True)\n",
    "\n",
    "# Write the par file\n",
    "write_par_file(par_dict, \"Par_file\", write_comments=True)"
   ]
  },
  {
   "cell_type": "markdown",
   "metadata": {
    "slideshow": {
     "slide_type": "skip"
    }
   },
   "source": [
    "Next, we need to write the topography file, which is a simple ASCII file with\n",
    "the bathymetry values at each point in the mesh.\n"
   ]
  },
  {
   "cell_type": "code",
   "execution_count": null,
   "metadata": {
    "slideshow": {
     "slide_type": "fragment"
    }
   },
   "outputs": [],
   "source": [
    "gebco.write_topography_file(\"topography_file.dat\", line_offset[-1], 9600, 9600+line_bathymetry, line_offset)"
   ]
  },
  {
   "cell_type": "markdown",
   "metadata": {
    "slideshow": {
     "slide_type": "skip"
    }
   },
   "source": [
    "Finally, we can run the mesher."
   ]
  },
  {
   "cell_type": "code",
   "execution_count": null,
   "metadata": {
    "slideshow": {
     "slide_type": "skip"
    }
   },
   "outputs": [],
   "source": [
    "from subprocess import call\n",
    "from os import makedirs"
   ]
  },
  {
   "cell_type": "markdown",
   "metadata": {
    "slideshow": {
     "slide_type": "slide"
    }
   },
   "source": [
    "### Running the mesher"
   ]
  },
  {
   "cell_type": "code",
   "execution_count": null,
   "metadata": {
    "slideshow": {
     "slide_type": "fragment"
    }
   },
   "outputs": [],
   "source": [
    "# Create the output directory for the database files.\n",
    "makedirs(\"OUTPUT_FILES/results\", exist_ok=True)\n",
    "call(\"xmeshfem2D -p Par_file\", shell=True)"
   ]
  },
  {
   "cell_type": "markdown",
   "metadata": {},
   "source": [
    "We setup the file to run the simulation."
   ]
  },
  {
   "cell_type": "code",
   "execution_count": null,
   "metadata": {},
   "outputs": [],
   "source": [
    "config = Config({\n",
    "    \"databases\": {\n",
    "        \"mesh-database\": \"OUTPUT_FILES/database.bin\"\n",
    "    },\n",
    "    \"header\": {\n",
    "        \"description\": \"Material systems : Elastic domain (1), Acoustic domain (1)\\nInterfaces : Acoustic-elastic interface (1) (orientation horizontal with acoustic domain on top)\\nSources : Moment-tensor (234)\\nBoundary conditions : Neumann BCs on all edges\\n\",\n",
    "        \"title\": \"fluid-solid-bathymetry\"\n",
    "    },\n",
    "    \"receivers\": {\n",
    "        \"angle\": 0.0,\n",
    "        \"nstep_between_samples\": 10,\n",
    "        \"seismogram-type\": [\n",
    "            \"pressure\"\n",
    "        ],\n",
    "        \"stations\": \"OUTPUT_FILES/STATIONS\"\n",
    "    },\n",
    "    \"run-setup\": {\n",
    "        \"number-of-processors\": 1,\n",
    "        \"number-of-runs\": 1\n",
    "    },\n",
    "    \"simulation-setup\": {\n",
    "        \"quadrature\": {\n",
    "            \"quadrature-type\": \"GLL4\"\n",
    "        },\n",
    "        \"simulation-mode\": {\n",
    "            \"forward\": {\n",
    "                \"writer\": {\n",
    "                    \"display\": {\n",
    "                        \"directory\": \"OUTPUT_FILES/results\",\n",
    "                        \"field\": \"displacement\",\n",
    "                        \"format\": \"PNG\",\n",
    "                        \"simulation-field\": \"forward\",\n",
    "                        \"time-interval\": 100\n",
    "                    },\n",
    "                    \"seismogram\": {\n",
    "                        \"directory\": \"OUTPUT_FILES/results\",\n",
    "                        \"format\": \"ascii\"\n",
    "                    }\n",
    "                }\n",
    "            }\n",
    "        },\n",
    "        \"solver\": {\n",
    "            \"time-marching\": {\n",
    "                \"time-scheme\": {\n",
    "                    \"dt\": 0.002,\n",
    "                    \"nstep\": 5000,\n",
    "                    \"type\": \"Newmark\"\n",
    "                },\n",
    "                \"type-of-simulation\": \"forward\"\n",
    "            }\n",
    "        }\n",
    "    },\n",
    "    \"sources\": \"line_sources.yaml\"\n",
    "})"
   ]
  },
  {
   "cell_type": "markdown",
   "metadata": {},
   "source": [
    "We use the `create_sources` function, which relies on the P wave velocity and\n",
    "the incidence angle. to compute the sequentially firing points sources that form\n",
    "a line source that is observed as a plane wave at the station."
   ]
  },
  {
   "cell_type": "code",
   "execution_count": null,
   "metadata": {},
   "outputs": [],
   "source": [
    "from specfempp.examples_utilities import sources\n",
    "\n",
    "# Create source file\n",
    "source_dict = sources.create_sources(incidence_angle, 3400, bathymetry_in_m=-line_bathymetry,\n",
    "                                     bathymetry_offset_in_m=line_offset)\n",
    "\n",
    "# plot the source\n",
    "sources.plot_sources(source_dict)\n",
    "\n",
    "# Set the source in the config\n",
    "config.set_par(\"sources\", source_dict)\n"
   ]
  },
  {
   "cell_type": "markdown",
   "metadata": {},
   "source": [
    "Now we add the receivers to the simulation."
   ]
  },
  {
   "cell_type": "code",
   "execution_count": null,
   "metadata": {},
   "outputs": [],
   "source": [
    "receiver_list = list()\n",
    "receiver1 = dict(network=\"AA\", station=\"S0003\", x=10000.0, z=8082.0)\n",
    "receiver2 = dict(network=\"AA\", station=\"S0004\", x=10000.0, z=5472.0)\n",
    "receiver_list.extend([receiver1, receiver2])\n",
    "\n",
    "config.set_par(\"receivers.stations\", receiver_list)\n"
   ]
  },
  {
   "cell_type": "code",
   "execution_count": null,
   "metadata": {},
   "outputs": [],
   "source": [
    "config.save_par(\"./test_config.yaml\")"
   ]
  },
  {
   "cell_type": "code",
   "execution_count": null,
   "metadata": {},
   "outputs": [],
   "source": []
  },
  {
   "cell_type": "code",
   "execution_count": null,
   "metadata": {},
   "outputs": [],
   "source": [
    "import glob\n",
    "import os\n",
    "import numpy as np\n",
    "import obspy\n",
    "import matplotlib.pyplot as plt\n",
    "\n",
    "def get_traces(directory):\n",
    "    traces = []\n",
    "    files = glob.glob(directory + \"/*.sem*\")\n",
    "    ## iterate over all seismograms\n",
    "    for filename in files:\n",
    "        station_name = os.path.splitext(filename)[0]\n",
    "        station_name = station_name.split(\"/\")[-1]\n",
    "        trace = np.loadtxt(filename, delimiter=\" \")\n",
    "        starttime = trace[0, 0]\n",
    "        dt = trace[1, 0] - trace[0, 0]\n",
    "        traces.append(\n",
    "            obspy.Trace(\n",
    "                trace[:, 1],\n",
    "                {\"network\": station_name, \"starttime\": starttime, \"delta\": dt},\n",
    "            )\n",
    "        )\n",
    "\n",
    "    stream = obspy.Stream(traces)\n",
    "\n",
    "    return stream\n",
    "\n",
    "\n",
    "stream = get_traces(\"OUTPUT_FILES/results\")\n",
    "fig = plt.figure(figsize=(10, 8))\n",
    "stream.plot(fig=fig)\n",
    "plt.show()"
   ]
  },
  {
   "cell_type": "code",
   "execution_count": null,
   "metadata": {},
   "outputs": [],
   "source": [
    "from specfempp.examples_utilities import plot\n",
    "dt = config.get_par('simulation-setup.solver.time-marching.time-scheme.dt')\n",
    "plot.plot_snapshots(\"OUTPUT_FILES/results\", dt)"
   ]
  }
 ],
 "metadata": {
  "kernelspec": {
   "display_name": "Python 3 (ipykernel)",
   "language": "python",
   "name": "python3"
  },
  "language_info": {
   "codemirror_mode": {
    "name": "ipython",
    "version": 3
   },
   "file_extension": ".py",
   "mimetype": "text/x-python",
   "name": "python",
   "nbconvert_exporter": "python",
   "pygments_lexer": "ipython3",
   "version": "3.12.8"
  }
 },
 "nbformat": 4,
 "nbformat_minor": 4
}
